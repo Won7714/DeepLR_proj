{
 "cells": [
  {
   "cell_type": "code",
   "execution_count": 1,
   "id": "a667cc4c-225c-41cb-a1db-8de923e9ece0",
   "metadata": {},
   "outputs": [],
   "source": [
    "import numpy as np\n",
    "import cv2\n",
    "import matplotlib.pyplot as plt"
   ]
  },
  {
   "cell_type": "code",
   "execution_count": 2,
   "id": "ed8443fa-17ae-49e6-958e-0b757cbfa765",
   "metadata": {},
   "outputs": [],
   "source": [
    "flag = cv2.IMREAD_GRAYSCALE"
   ]
  },
  {
   "cell_type": "code",
   "execution_count": 12,
   "id": "8be979fe-04c3-4497-906b-1971704bcc23",
   "metadata": {},
   "outputs": [],
   "source": [
    "image = cv2.imread('test_v2//test//TEST_0001.jpg', flag)"
   ]
  },
  {
   "cell_type": "code",
   "execution_count": 4,
   "id": "617d8e16-d811-4062-a44b-d35f6b7b0536",
   "metadata": {},
   "outputs": [
    {
     "data": {
      "text/plain": [
       "<matplotlib.image.AxesImage at 0x1d712cadfd0>"
      ]
     },
     "execution_count": 4,
     "metadata": {},
     "output_type": "execute_result"
    },
    {
     "data": {
      "image/png": "[encoded data removed]",
      "text/plain": [
       "<Figure size 640x480 with 1 Axes>"
      ]
     },
     "metadata": {},
     "output_type": "display_data"
    }
   ],
   "source": [
    "plt.imshow(image, cmap='gray')"
   ]
  },
  {
   "cell_type": "code",
   "execution_count": 5,
   "id": "7e9c9ee5-f829-4c0a-b397-9cdb827d907a",
   "metadata": {},
   "outputs": [
    {
     "name": "stdout",
     "output_type": "stream",
     "text": [
      "(31, 284)\n"
     ]
    }
   ],
   "source": [
    "print(image.shape)"
   ]
  },
  {
   "cell_type": "code",
   "execution_count": 6,
   "id": "3bc79a04-bba4-4ea3-9037-e11731cacd26",
   "metadata": {},
   "outputs": [],
   "source": [
    "import os"
   ]
  },
  {
   "cell_type": "code",
   "execution_count": 9,
   "id": "9486c25c-1652-4609-9a04-eba509285c96",
   "metadata": {},
   "outputs": [],
   "source": [
    "path = 'train_v2//train'\n",
    "\n",
    "file_list = os.listdir(path)\n",
    "\n",
    "#print (\"file_list: {}\".format(file_list))"
   ]
  },
  {
   "cell_type": "code",
   "execution_count": 10,
   "id": "587509f2-6218-4c6b-9cc3-8c7b7c32c432",
   "metadata": {},
   "outputs": [],
   "source": [
    "max_x = 0\n",
    "max_y = 0\n",
    "\n",
    "for i in file_list:\n",
    "    image = cv2.imread(path + '//' + i, flag)\n",
    "    x = image.shape[0]\n",
    "    y = image.shape[1]\n",
    "\n",
    "    if x > max_x:\n",
    "        max_x = x\n",
    "    if y > max_y:\n",
    "        max_y = y"
   ]
  },
  {
   "cell_type": "code",
   "execution_count": 11,
   "id": "c7483da0-a6bf-4667-9d3c-f4a8a1f409e7",
   "metadata": {},
   "outputs": [
    {
     "name": "stdout",
     "output_type": "stream",
     "text": [
      "72 388\n"
     ]
    }
   ],
   "source": [
    "print(max_x, max_y) #test folder: 72 388\n",
    "                    #train folder: 72 388\n",
    "                    #validation folder: "
   ]
  },
  {
   "cell_type": "code",
   "execution_count": 30,
   "id": "bce55885-c55c-4bdc-970c-87a44ce5c121",
   "metadata": {},
   "outputs": [],
   "source": [
    "def padding(img, shape_x=72, shape_y=388):\n",
    "    x = img.shape[0]\n",
    "    y = img.shape[1]\n",
    "\n",
    "    #x padding\n",
    "    dif = shape_x - x\n",
    "\n",
    "    pad = 255 * np.ones((1, y))\n",
    "    if dif % 2 == 1:\n",
    "        dif = dif - 1\n",
    "        img = np.concatenate((pad, img), axis=0)\n",
    "\n",
    "    iter = int(dif/2)\n",
    "\n",
    "    for i in range(0, iter):\n",
    "        img = np.concatenate((pad, img), axis=0)\n",
    "        img = np.concatenate((img, pad), axis=0)\n",
    "\n",
    "    #y padding\n",
    "    dif = shape_y - y\n",
    "    pad = 255 * np.ones((shape_x, 1))\n",
    "    if dif % 2 == 1:\n",
    "        dif = dif - 1\n",
    "        img = np.concatenate((pad, img), axis=1)\n",
    "\n",
    "    iter = int(dif/2)\n",
    "    \n",
    "    for i in range(0, iter):\n",
    "        img = np.concatenate((pad, img), axis=1)\n",
    "        img = np.concatenate((img, pad), axis=1)\n",
    "        \n",
    "    return img"
   ]
  },
  {
   "cell_type": "code",
   "execution_count": 31,
   "id": "da111c4a-aff9-4680-8a7a-1cc42b0ecaf3",
   "metadata": {},
   "outputs": [],
   "source": [
    "pad_img = padding(image)"
   ]
  },
  {
   "cell_type": "code",
   "execution_count": 32,
   "id": "706be4e1-a3d1-4be0-87bf-aeac2c8e3704",
   "metadata": {},
   "outputs": [
    {
     "name": "stdout",
     "output_type": "stream",
     "text": [
      "(72, 388)\n"
     ]
    }
   ],
   "source": [
    "print(pad_img.shape)"
   ]
  },
  {
   "cell_type": "code",
   "execution_count": 33,
   "id": "18ed0006-9a6f-49d7-9dc6-8927f093b6ee",
   "metadata": {},
   "outputs": [
    {
     "data": {
      "text/plain": [
       "<matplotlib.image.AxesImage at 0x1d712d53490>"
      ]
     },
     "execution_count": 33,
     "metadata": {},
     "output_type": "execute_result"
    },
    {
     "data": {
      "image/png": "[encoded data removed]",
      "text/plain": [
       "<Figure size 640x480 with 1 Axes>"
      ]
     },
     "metadata": {},
     "output_type": "display_data"
    }
   ],
   "source": [
    "plt.imshow(pad_img, cmap='gray')"
   ]
  },
  {
   "cell_type": "code",
   "execution_count": null,
   "id": "c138fcec-9e74-465b-a7dd-6cd8d5a59888",
   "metadata": {},
   "outputs": [],
   "source": []
  }
 ],
 "metadata": {
  "kernelspec": {
   "display_name": "Python 3 (ipykernel)",
   "language": "python",
   "name": "python3"
  },
  "language_info": {
   "codemirror_mode": {
    "name": "ipython",
    "version": 3
   },
   "file_extension": ".py",
   "mimetype": "text/x-python",
   "name": "python",
   "nbconvert_exporter": "python",
   "pygments_lexer": "ipython3",
   "version": "3.11.5"
  }
 },
 "nbformat": 4,
 "nbformat_minor": 5
}
